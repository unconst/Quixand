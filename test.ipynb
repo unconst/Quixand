{
 "cells": [
  {
   "cell_type": "code",
   "execution_count": 1,
   "id": "a197e4a0",
   "metadata": {},
   "outputs": [],
   "source": [
    "import quicksand as qs"
   ]
  },
  {
   "cell_type": "code",
   "execution_count": null,
   "id": "ddd76d8c",
   "metadata": {},
   "outputs": [
    {
     "name": "stdout",
     "output_type": "stream",
     "text": [
      "['.', '..', 'hello.txt']\n",
      "4\n",
      "\n",
      "2\n"
     ]
    }
   ],
   "source": [
    "# Hello world Sync Sandbox:\n",
    "import quicksand as qs\n",
    "sbx = qs.Sandbox(template=\"python:3.11-slim\", timeout=600, metadata={\"user\":\"alice\"})\n",
    "sbx.files.write(\"hello.txt\", \"hi!\")\n",
    "print([f.path for f in sbx.files.ls(\".\")])\n",
    "res = sbx.run([\"python\",\"-c\",\"print(2+2)\"])\n",
    "print(res.text)  # \"4\\n\"\n",
    "execn = sbx.run_code(\"x=1\\nx+=1\\nprint(x)\")\n",
    "print(execn.text.strip())  # \"2\"\n",
    "sbx.shutdown()"
   ]
  },
  {
   "cell_type": "code",
   "execution_count": 6,
   "id": "fe3628b8",
   "metadata": {},
   "outputs": [
    {
     "name": "stdout",
     "output_type": "stream",
     "text": [
      "1 \n"
     ]
    }
   ],
   "source": [
    "res = sbx.run(\"echo $USER && uname -a\")\n",
    "print(res.exit_code, res.text)"
   ]
  },
  {
   "cell_type": "code",
   "execution_count": 7,
   "id": "95c8aeff",
   "metadata": {},
   "outputs": [
    {
     "ename": "CalledProcessError",
     "evalue": "Command '['docker', 'cp', '/Users/const/.quicksand/scratch/6e402e27-72bd-48b2-a6d6-ec8136b8bef0/put.tmp', '49a6fa34c1d2e82c1a25a7ce0551e046a4b040b35e6b61290cfe4a796a318b49:/workspace/.qs_exec.py']' returned non-zero exit status 1.",
     "output_type": "error",
     "traceback": [
      "\u001b[31m---------------------------------------------------------------------------\u001b[39m",
      "\u001b[31mCalledProcessError\u001b[39m                        Traceback (most recent call last)",
      "\u001b[36mCell\u001b[39m\u001b[36m \u001b[39m\u001b[32mIn[7]\u001b[39m\u001b[32m, line 2\u001b[39m\n\u001b[32m      1\u001b[39m sbx.install_pkg(\u001b[33m\"\u001b[39m\u001b[33mpandas==2.2.2\u001b[39m\u001b[33m\"\u001b[39m)\n\u001b[32m----> \u001b[39m\u001b[32m2\u001b[39m execn = \u001b[43msbx\u001b[49m\u001b[43m.\u001b[49m\u001b[43mrun_code\u001b[49m\u001b[43m(\u001b[49m\u001b[33;43m\"\u001b[39;49m\u001b[33;43mimport pandas as pd; print(pd.__version__)\u001b[39;49m\u001b[33;43m\"\u001b[39;49m\u001b[43m)\u001b[49m\n\u001b[32m      3\u001b[39m \u001b[38;5;28mprint\u001b[39m(execn.ok, execn.text)\n",
      "\u001b[36mFile \u001b[39m\u001b[32m~/Code/quicksand/quicksand/core/sandbox.py:110\u001b[39m, in \u001b[36mSandbox.run_code\u001b[39m\u001b[34m(self, code)\u001b[39m\n\u001b[32m    109\u001b[39m \u001b[38;5;28;01mdef\u001b[39;00m\u001b[38;5;250m \u001b[39m\u001b[34mrun_code\u001b[39m(\u001b[38;5;28mself\u001b[39m, code: \u001b[38;5;28mstr\u001b[39m) -> Execution:\n\u001b[32m--> \u001b[39m\u001b[32m110\u001b[39m \t\u001b[38;5;28;01mreturn\u001b[39;00m \u001b[38;5;28;43mself\u001b[39;49m\u001b[43m.\u001b[49m\u001b[43m_adapter\u001b[49m\u001b[43m.\u001b[49m\u001b[43mrun_code\u001b[49m\u001b[43m(\u001b[49m\u001b[38;5;28;43mself\u001b[39;49m\u001b[43m.\u001b[49m\u001b[43m_handle\u001b[49m\u001b[43m,\u001b[49m\u001b[43m \u001b[49m\u001b[43mcode\u001b[49m\u001b[43m)\u001b[49m\n",
      "\u001b[36mFile \u001b[39m\u001b[32m~/Code/quicksand/quicksand/adapters/local_docker.py:249\u001b[39m, in \u001b[36mLocalDockerAdapter.run_code\u001b[39m\u001b[34m(self, h, code)\u001b[39m\n\u001b[32m    247\u001b[39m \u001b[38;5;28;01mdef\u001b[39;00m\u001b[38;5;250m \u001b[39m\u001b[34mrun_code\u001b[39m(\u001b[38;5;28mself\u001b[39m, h: LocalHandle, code: \u001b[38;5;28mstr\u001b[39m) -> Execution:\n\u001b[32m    248\u001b[39m \tcode_path = \u001b[38;5;28mself\u001b[39m._abs(h, \u001b[33m\"\u001b[39m\u001b[33m.qs_exec.py\u001b[39m\u001b[33m\"\u001b[39m)\n\u001b[32m--> \u001b[39m\u001b[32m249\u001b[39m \t\u001b[38;5;28;43mself\u001b[39;49m\u001b[43m.\u001b[49m\u001b[43mfs_write\u001b[49m\u001b[43m(\u001b[49m\u001b[43mh\u001b[49m\u001b[43m,\u001b[49m\u001b[43m \u001b[49m\u001b[43mcode_path\u001b[49m\u001b[43m,\u001b[49m\u001b[43m \u001b[49m\u001b[43mcode\u001b[49m\u001b[43m.\u001b[49m\u001b[43mencode\u001b[49m\u001b[43m(\u001b[49m\u001b[33;43m\"\u001b[39;49m\u001b[33;43mutf-8\u001b[39;49m\u001b[33;43m\"\u001b[39;49m\u001b[43m)\u001b[49m\u001b[43m,\u001b[49m\u001b[43m \u001b[49m\u001b[43mtext\u001b[49m\u001b[43m=\u001b[49m\u001b[38;5;28;43;01mFalse\u001b[39;49;00m\u001b[43m)\u001b[49m\n\u001b[32m    250\u001b[39m \tres = \u001b[38;5;28mself\u001b[39m.run(h, [\u001b[33m\"\u001b[39m\u001b[33mpython\u001b[39m\u001b[33m\"\u001b[39m, code_path], env=\u001b[38;5;28;01mNone\u001b[39;00m, timeout=\u001b[38;5;28;01mNone\u001b[39;00m)\n\u001b[32m    251\u001b[39m \tok = res.exit_code == \u001b[32m0\u001b[39m\n",
      "\u001b[36mFile \u001b[39m\u001b[32m~/Code/quicksand/quicksand/adapters/local_docker.py:150\u001b[39m, in \u001b[36mLocalDockerAdapter.fs_write\u001b[39m\u001b[34m(self, h, path, data, text)\u001b[39m\n\u001b[32m    148\u001b[39m local = \u001b[38;5;28mself\u001b[39m._scratch(h, \u001b[33m\"\u001b[39m\u001b[33mput.tmp\u001b[39m\u001b[33m\"\u001b[39m)\n\u001b[32m    149\u001b[39m local.write_bytes(data \u001b[38;5;28;01mif\u001b[39;00m \u001b[38;5;129;01mnot\u001b[39;00m text \u001b[38;5;28;01melse\u001b[39;00m data.decode(\u001b[33m\"\u001b[39m\u001b[33mutf-8\u001b[39m\u001b[33m\"\u001b[39m).encode(\u001b[33m\"\u001b[39m\u001b[33mutf-8\u001b[39m\u001b[33m\"\u001b[39m))\n\u001b[32m--> \u001b[39m\u001b[32m150\u001b[39m \u001b[43mdocker_cp\u001b[49m\u001b[43m(\u001b[49m\u001b[38;5;28;43mself\u001b[39;49m\u001b[43m.\u001b[49m\u001b[43mruntime\u001b[49m\u001b[43m,\u001b[49m\u001b[43m \u001b[49m\u001b[38;5;28;43mstr\u001b[39;49m\u001b[43m(\u001b[49m\u001b[43mlocal\u001b[49m\u001b[43m)\u001b[49m\u001b[43m,\u001b[49m\u001b[43m \u001b[49m\u001b[33;43mf\u001b[39;49m\u001b[33;43m\"\u001b[39;49m\u001b[38;5;132;43;01m{\u001b[39;49;00m\u001b[43mh\u001b[49m\u001b[43m.\u001b[49m\u001b[43mcontainer_id\u001b[49m\u001b[38;5;132;43;01m}\u001b[39;49;00m\u001b[33;43m:\u001b[39;49m\u001b[38;5;132;43;01m{\u001b[39;49;00m\u001b[38;5;28;43mself\u001b[39;49m\u001b[43m.\u001b[49m\u001b[43m_abs\u001b[49m\u001b[43m(\u001b[49m\u001b[43mh\u001b[49m\u001b[43m,\u001b[49m\u001b[38;5;250;43m \u001b[39;49m\u001b[43mpath\u001b[49m\u001b[43m)\u001b[49m\u001b[38;5;132;43;01m}\u001b[39;49;00m\u001b[33;43m\"\u001b[39;49m\u001b[43m)\u001b[49m\n\u001b[32m    151\u001b[39m h.last_active_at = datetime.utcnow()\n\u001b[32m    152\u001b[39m \u001b[38;5;28mself\u001b[39m._persist_handle(h)\n",
      "\u001b[36mFile \u001b[39m\u001b[32m~/Code/quicksand/quicksand/utils/docker_utils.py:31\u001b[39m, in \u001b[36mdocker_cp\u001b[39m\u001b[34m(runtime, src, dst)\u001b[39m\n\u001b[32m     30\u001b[39m \u001b[38;5;28;01mdef\u001b[39;00m\u001b[38;5;250m \u001b[39m\u001b[34mdocker_cp\u001b[39m(runtime: \u001b[38;5;28mstr\u001b[39m, src: \u001b[38;5;28mstr\u001b[39m, dst: \u001b[38;5;28mstr\u001b[39m) -> \u001b[38;5;28;01mNone\u001b[39;00m:\n\u001b[32m---> \u001b[39m\u001b[32m31\u001b[39m \t\u001b[43mrun_cli\u001b[49m\u001b[43m(\u001b[49m\u001b[43m[\u001b[49m\u001b[43mruntime\u001b[49m\u001b[43m,\u001b[49m\u001b[43m \u001b[49m\u001b[33;43m\"\u001b[39;49m\u001b[33;43mcp\u001b[39;49m\u001b[33;43m\"\u001b[39;49m\u001b[43m,\u001b[49m\u001b[43m \u001b[49m\u001b[43msrc\u001b[49m\u001b[43m,\u001b[49m\u001b[43m \u001b[49m\u001b[43mdst\u001b[49m\u001b[43m]\u001b[49m\u001b[43m)\u001b[49m\n",
      "\u001b[36mFile \u001b[39m\u001b[32m~/Code/quicksand/quicksand/utils/docker_utils.py:26\u001b[39m, in \u001b[36mrun_cli\u001b[39m\u001b[34m(cmd, env, check, timeout)\u001b[39m\n\u001b[32m     24\u001b[39m proc = subprocess.run(cmd, env=merged_env, stdout=subprocess.PIPE, stderr=subprocess.PIPE, timeout=timeout)\n\u001b[32m     25\u001b[39m \u001b[38;5;28;01mif\u001b[39;00m check \u001b[38;5;129;01mand\u001b[39;00m proc.returncode != \u001b[32m0\u001b[39m:\n\u001b[32m---> \u001b[39m\u001b[32m26\u001b[39m \t\u001b[38;5;28;01mraise\u001b[39;00m subprocess.CalledProcessError(proc.returncode, cmd, output=proc.stdout, stderr=proc.stderr)\n\u001b[32m     27\u001b[39m \u001b[38;5;28;01mreturn\u001b[39;00m proc\n",
      "\u001b[31mCalledProcessError\u001b[39m: Command '['docker', 'cp', '/Users/const/.quicksand/scratch/6e402e27-72bd-48b2-a6d6-ec8136b8bef0/put.tmp', '49a6fa34c1d2e82c1a25a7ce0551e046a4b040b35e6b61290cfe4a796a318b49:/workspace/.qs_exec.py']' returned non-zero exit status 1."
     ]
    }
   ],
   "source": [
    "sbx.install_pkg(\"pandas==2.2.2\")\n",
    "execn = sbx.run_code(\"import pandas as pd; print(pd.__version__)\")\n",
    "print(execn.ok, execn.text)"
   ]
  },
  {
   "cell_type": "code",
   "execution_count": null,
   "id": "e65c8b44",
   "metadata": {},
   "outputs": [],
   "source": []
  }
 ],
 "metadata": {
  "kernelspec": {
   "display_name": ".venv",
   "language": "python",
   "name": "python3"
  },
  "language_info": {
   "codemirror_mode": {
    "name": "ipython",
    "version": 3
   },
   "file_extension": ".py",
   "mimetype": "text/x-python",
   "name": "python",
   "nbconvert_exporter": "python",
   "pygments_lexer": "ipython3",
   "version": "3.13.2"
  }
 },
 "nbformat": 4,
 "nbformat_minor": 5
}
