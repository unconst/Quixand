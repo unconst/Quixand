{
 "cells": [
  {
   "cell_type": "code",
   "execution_count": 1,
   "id": "a197e4a0",
   "metadata": {},
   "outputs": [],
   "source": [
    "import quixand as qs"
   ]
  },
  {
   "cell_type": "code",
   "execution_count": null,
   "id": "ddd76d8c",
   "metadata": {},
   "outputs": [],
   "source": [
    "# Hello world Sync Sandbox:\n",
    "import quixand as qs\n",
    "sbx = qs.Sandbox(template=\"python:3.11-slim\", timeout=600, metadata={\"user\":\"alice\"})\n",
    "sbx.files.write(\"hello.txt\", \"hi!\")\n",
    "print([f.path for f in sbx.files.ls(\".\")])\n",
    "res = sbx.run([\"python\",\"-c\",\"print(2+2)\"])\n",
    "print(res.text)  # \"4\\n\"\n",
    "execn = sbx.run_code(\"x=1\\nx+=1\\nprint(x)\")\n",
    "print(execn.text.strip())  # \"2\"\n",
    "sbx.shutdown()"
   ]
  },
  {
   "cell_type": "code",
   "execution_count": null,
   "id": "fe3628b8",
   "metadata": {},
   "outputs": [],
   "source": [
    "res = sbx.run(\"echo $USER && uname -a\")\n",
    "print(res.exit_code, res.text)"
   ]
  },
  {
   "cell_type": "code",
   "execution_count": null,
   "id": "95c8aeff",
   "metadata": {},
   "outputs": [],
   "source": [
    "sbx.install_pkg(\"pandas==2.2.2\")\n",
    "execn = sbx.run_code(\"import pandas as pd; print(pd.__version__)\")\n",
    "print(execn.ok, execn.text)"
   ]
  },
  {
   "cell_type": "code",
   "execution_count": 1,
   "id": "e65c8b44",
   "metadata": {},
   "outputs": [
    {
     "name": "stdout",
     "output_type": "stream",
     "text": [
      "This took 20.52 seconds (4.10 seconds per box)\n"
     ]
    }
   ],
   "source": [
    "import quixand as qs\n",
    "config = qs.Config(timeout=600, image=\"python:3.11-slim\")\n",
    "ply = qs.Playground(n=2, config=config)\n",
    "import time\n",
    "start_time = time.time()\n",
    "sandboxs = []\n",
    "for _ in range(2):\n",
    "    sandboxs.append( ply.create() )\n",
    "for sbx in sandboxs:\n",
    "    sbx.shutdown()\n",
    "end_time = time.time()\n",
    "total_time = end_time - start_time\n",
    "seconds_per_box = total_time / 5\n",
    "print(f\"This took {total_time:.2f} seconds ({seconds_per_box:.2f} seconds per box)\")\n",
    "    "
   ]
  },
  {
   "cell_type": "code",
   "execution_count": 14,
   "id": "3348c442",
   "metadata": {},
   "outputs": [
    {
     "data": {
      "text/plain": [
       "<quixand.core.playground.Playground at 0x10b368e10>"
      ]
     },
     "execution_count": 14,
     "metadata": {},
     "output_type": "execute_result"
    }
   ],
   "source": [
    "ply"
   ]
  },
  {
   "cell_type": "code",
   "execution_count": null,
   "id": "62a3b5b8",
   "metadata": {},
   "outputs": [],
   "source": []
  }
 ],
 "metadata": {
  "kernelspec": {
   "display_name": ".venv",
   "language": "python",
   "name": "python3"
  },
  "language_info": {
   "codemirror_mode": {
    "name": "ipython",
    "version": 3
   },
   "file_extension": ".py",
   "mimetype": "text/x-python",
   "name": "python",
   "nbconvert_exporter": "python",
   "pygments_lexer": "ipython3",
   "version": "3.10.15"
  }
 },
 "nbformat": 4,
 "nbformat_minor": 5
}
